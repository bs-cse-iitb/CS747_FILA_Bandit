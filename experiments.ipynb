{
 "cells": [
  {
   "cell_type": "code",
   "execution_count": 28,
   "id": "9e4b202b",
   "metadata": {},
   "outputs": [],
   "source": [
    "import numpy as np\n",
    "import math\n",
    "import time"
   ]
  },
  {
   "cell_type": "code",
   "execution_count": 41,
   "id": "2ce891de",
   "metadata": {
    "scrolled": true
   },
   "outputs": [
    {
     "name": "stdout",
     "output_type": "stream",
     "text": [
      "0.96\n",
      "0.96\n",
      "0.95\n",
      "0.95\n",
      "0.94\n",
      "0.94\n",
      "0.94\n",
      "0.93\n",
      "0.93\n",
      "0.92\n",
      "0.92\n",
      "0.92\n",
      "0.91\n",
      "0.91\n",
      "0.9\n",
      "0.9\n",
      "0.9\n",
      "0.89\n",
      "0.89\n",
      "0.88\n",
      "0.88\n",
      "0.88\n",
      "0.87\n",
      "0.87\n",
      "0.86\n",
      "0.86\n",
      "0.86\n",
      "0.85\n",
      "0.85\n",
      "0.84\n",
      "0.84\n",
      "0.84\n",
      "0.83\n",
      "0.83\n",
      "0.82\n",
      "0.82\n",
      "0.82\n",
      "0.81\n",
      "0.81\n",
      "0.8\n",
      "0.8\n",
      "0.8\n",
      "0.79\n",
      "0.79\n",
      "0.78\n",
      "0.78\n",
      "0.78\n",
      "0.77\n",
      "0.77\n",
      "0.76\n",
      "0.76\n",
      "0.76\n",
      "0.75\n",
      "0.75\n",
      "0.74\n",
      "0.74\n",
      "0.74\n",
      "0.73\n",
      "0.73\n",
      "0.72\n",
      "0.72\n",
      "0.72\n",
      "0.71\n",
      "0.71\n",
      "0.7\n",
      "0.7\n",
      "0.7\n",
      "0.69\n",
      "0.69\n",
      "0.68\n",
      "0.68\n",
      "0.68\n",
      "0.67\n",
      "0.67\n",
      "0.66\n",
      "0.66\n",
      "0.66\n",
      "0.65\n",
      "0.65\n",
      "0.64\n",
      "0.64\n",
      "0.64\n",
      "0.63\n",
      "0.63\n",
      "0.62\n",
      "0.62\n",
      "0.62\n",
      "0.61\n",
      "0.61\n",
      "0.6\n",
      "0.6\n",
      "0.6\n",
      "0.59\n",
      "0.59\n",
      "0.58\n",
      "0.58\n",
      "0.58\n",
      "0.57\n",
      "0.57\n",
      "0.56\n"
     ]
    }
   ],
   "source": [
    "n =100\n",
    "\n",
    "limit = 0.96\n",
    "update = n/10\n",
    "for i in range(n):\n",
    "    print(round(0.96 - i*step,2))\n",
    "\n"
   ]
  },
  {
   "cell_type": "code",
   "execution_count": null,
   "id": "630202f1",
   "metadata": {},
   "outputs": [],
   "source": []
  },
  {
   "cell_type": "code",
   "execution_count": 55,
   "id": "ea5dbcde",
   "metadata": {},
   "outputs": [
    {
     "name": "stdout",
     "output_type": "stream",
     "text": [
      "[0.28817869 0.5229472  0.36388734 0.58589813 0.64081429 0.46733797\n",
      " 0.50021669 0.24007433 0.52804706 0.56809847 0.38593655 0.28098267\n",
      " 0.35850218 0.43020765 0.52256014 0.40520266 0.44552844 0.42467713\n",
      " 0.39426406 0.43724752]\n"
     ]
    }
   ],
   "source": [
    "a = np.ones(10)\n",
    "b = np.ones(10)\n",
    "a=10\n",
    "b=10\n",
    "np.random.beta(a,b,20)\n",
    "print(x)"
   ]
  },
  {
   "cell_type": "code",
   "execution_count": 40,
   "id": "b53bd009",
   "metadata": {},
   "outputs": [
    {
     "name": "stdout",
     "output_type": "stream",
     "text": [
      "<class 'numpy.ndarray'>\n",
      "<class 'list'>\n"
     ]
    }
   ],
   "source": [
    "a = np.array([1, 2 ,3])\n",
    "print(type(a))\n",
    "a = a.tolist()\n",
    "print(type(a))"
   ]
  },
  {
   "cell_type": "code",
   "execution_count": 93,
   "id": "4a4a85b9",
   "metadata": {},
   "outputs": [
    {
     "name": "stdout",
     "output_type": "stream",
     "text": [
      "[4 0 2 5 6 3 1]\n",
      "[ 2  4  5  1  6  9 10]\n"
     ]
    },
    {
     "data": {
      "text/plain": [
       "array([4, 3, 1])"
      ]
     },
     "execution_count": 93,
     "metadata": {},
     "output_type": "execute_result"
    }
   ],
   "source": [
    "a = np.array([4,10,5,9,2,1,6])\n",
    "\n",
    "k =3\n",
    "x = np.argpartition(a,5)\n",
    "print(x)\n",
    "print(a[x])\n",
    "\n",
    "import numpy as np\n",
    "arr = np.array([1, 3, 2, 4, 5])\n",
    "arr.argsort()[-k:][::-1]"
   ]
  },
  {
   "cell_type": "code",
   "execution_count": 119,
   "id": "61e63951",
   "metadata": {},
   "outputs": [
    {
     "name": "stdout",
     "output_type": "stream",
     "text": [
      "[ 2  3  1 10]\n"
     ]
    }
   ],
   "source": [
    "a = np.array([2,3,1])\n",
    "b = np.array([2,2,3])\n",
    "\n",
    "x = 12\n",
    "a = np.append(a,10)\n",
    "print(a)\n",
    "if x in a:\n",
    "    print(\"test\")\n",
    "    i = np.where(a==x)\n",
    "    print(i)\n",
    "    b[i]+=1\n",
    "    print(b[i])\n"
   ]
  },
  {
   "cell_type": "code",
   "execution_count": null,
   "id": "bd4c611b",
   "metadata": {},
   "outputs": [],
   "source": []
  },
  {
   "cell_type": "code",
   "execution_count": null,
   "id": "84b27f3a",
   "metadata": {},
   "outputs": [],
   "source": []
  },
  {
   "cell_type": "code",
   "execution_count": 72,
   "id": "f53e4854",
   "metadata": {},
   "outputs": [],
   "source": [
    "def kl(x,y):\n",
    "    if x==0:\n",
    "        kl_value = -math.log((1-y))\n",
    "        return kl_value\n",
    "    if x==1:\n",
    "        kl_value = -math.log(y)\n",
    "        return kl_value\n",
    "    else:\n",
    "        ln1 = math.log(x/y)\n",
    "        ln2 = math.log((1-x)/(1-y))\n",
    "        kl_value = x * ln1 + (1-x) * ln2 \n",
    "        return kl_value\n",
    "\n",
    "\n",
    "def bs(p_,start,end,kl_p_q):\n",
    "    middle = (start + end)/2\n",
    "    kl_p_m = kl(p_,middle)\n",
    "    #print(middle)\n",
    "\n",
    "    #return 0.5\n",
    "    while(abs(kl_p_m-kl_p_q) > 0.0001 and abs(start-end) > 0.0001): \n",
    "        #print(kl_p_m , kl_p_q)\n",
    "        if(kl_p_m > kl_p_q ):\n",
    "            end = middle\n",
    "        else:\n",
    "            start = middle\n",
    "        middle = (start + end)/2\n",
    "        kl_p_m = kl(p_,middle)\n",
    "        \n",
    "    return middle\n",
    "        \n",
    "        "
   ]
  },
  {
   "cell_type": "code",
   "execution_count": 73,
   "id": "1637777e",
   "metadata": {},
   "outputs": [],
   "source": [
    "def bs2(p_,start,end,kl_p_q):\n",
    "    middle = (start + end)/2\n",
    "    #print(middle)\n",
    "    kl_p_m = kl(p_,middle)\n",
    "    #print(kl_p_m , kl_p_q)\n",
    "    #return 0.5\n",
    "    if abs(kl_p_m-kl_p_q) < 0.0001:\n",
    "        #print(middle)\n",
    "        return middle\n",
    "    elif(kl_p_m > kl_p_q ):\n",
    "        return bs(p_,start,middle,kl_p_q)\n",
    "    else:\n",
    "        return bs(p_,middle,end,kl_p_q)"
   ]
  },
  {
   "cell_type": "code",
   "execution_count": 74,
   "id": "11af6b4d",
   "metadata": {
    "scrolled": false
   },
   "outputs": [
    {
     "name": "stdout",
     "output_type": "stream",
     "text": [
      "0.12114524841308594\n",
      "0.08352518081665039\n",
      "0.9805679931640624 0.9805679931640624\n"
     ]
    }
   ],
   "source": [
    "\n",
    "ln_t = math.log(500)\n",
    "lnln_t = math.log(ln_t)\n",
    "c = 3\n",
    "ln_final = (ln_t + c * lnln_t)\n",
    "q = 0.999\n",
    "\n",
    "kl_p_q = ln_final / 20\n",
    "\n",
    "\n",
    "tic = time.time()\n",
    "for i in range(10000):\n",
    "    x = bs(0.7,0.7,q,kl_p_q)\n",
    "toc = time.time()\n",
    "\n",
    "print(toc-tic)\n",
    "\n",
    "\n",
    "tic =time.time()\n",
    "for i in range(10000):\n",
    "    y = bs2(0.7,0.7,q,kl_p_q)\n",
    "toc = time.time()\n",
    "\n",
    "print(toc-tic)\n",
    "\n",
    "print(x,y)\n",
    "\n",
    "        \n",
    "        # END EDITING HERE"
   ]
  },
  {
   "cell_type": "code",
   "execution_count": null,
   "id": "b9f7cb55",
   "metadata": {},
   "outputs": [],
   "source": []
  },
  {
   "cell_type": "code",
   "execution_count": 20,
   "id": "6cc07e73",
   "metadata": {},
   "outputs": [
    {
     "name": "stdout",
     "output_type": "stream",
     "text": [
      "[4 5]\n"
     ]
    }
   ],
   "source": [
    "arm = np.array([4,5,6])\n",
    "arm=np.delete(arm,np.where(arm==6))\n",
    "print(arm)"
   ]
  },
  {
   "cell_type": "code",
   "execution_count": null,
   "id": "9036c5d4",
   "metadata": {},
   "outputs": [],
   "source": [
    "dect"
   ]
  },
  {
   "cell_type": "code",
   "execution_count": null,
   "id": "d332627a",
   "metadata": {},
   "outputs": [],
   "source": []
  },
  {
   "cell_type": "code",
   "execution_count": 4,
   "id": "0d055457",
   "metadata": {},
   "outputs": [],
   "source": [
    "class Algorithm:\n",
    "    def __init__(self, num_arms, horizon):\n",
    "        self.num_arms = num_arms\n",
    "        self.horizon = horizon\n",
    "    \n",
    "    def give_pull(self):\n",
    "        raise NotImplementedError\n",
    "    \n",
    "    def get_reward(self, arm_index, reward):\n",
    "        raise NotImplementedError"
   ]
  },
  {
   "cell_type": "code",
   "execution_count": null,
   "id": "4741a7c4",
   "metadata": {},
   "outputs": [],
   "source": []
  },
  {
   "cell_type": "code",
   "execution_count": null,
   "id": "7b61b343",
   "metadata": {},
   "outputs": [],
   "source": []
  },
  {
   "cell_type": "code",
   "execution_count": null,
   "id": "35b29807",
   "metadata": {},
   "outputs": [],
   "source": []
  },
  {
   "cell_type": "code",
   "execution_count": 98,
   "id": "571a06c7",
   "metadata": {},
   "outputs": [],
   "source": [
    "horizon = 100\n",
    "num_arms = 2\n",
    "prob = [0.4,0.7]\n",
    "np.random.seed(0)"
   ]
  },
  {
   "cell_type": "code",
   "execution_count": null,
   "id": "7ab8fa71",
   "metadata": {},
   "outputs": [],
   "source": []
  },
  {
   "cell_type": "code",
   "execution_count": 99,
   "id": "1a078c01",
   "metadata": {},
   "outputs": [
    {
     "name": "stdout",
     "output_type": "stream",
     "text": [
      "arm : 0 rew : 0 mean: [0. 0.] ucb : [0. 0.] \n",
      "arm : 1 rew : 0 mean: [0. 0.] ucb : [1. 0.] \n",
      "arm : 0 rew : 0 mean: [0. 0.] ucb : [1. 1.] \n",
      "check\n",
      "arm : 1 rew : 1 mean: [0.  0.5] ucb : [2. 1.] \n",
      "check\n",
      "arm : 1 rew : 1 mean: [0.         0.66666667] ucb : [2. 2.] \n",
      "check\n",
      "arm : 1 rew : 1 mean: [0.   0.75] ucb : [2. 3.] \n",
      "check\n",
      "arm : 1 rew : 1 mean: [0.  0.8] ucb : [2. 4.] \n",
      "check\n",
      "arm : 1 rew : 0 mean: [0.         0.66666667] ucb : [2. 5.] \n",
      "check\n",
      "arm : 1 rew : 0 mean: [0.         0.57142857] ucb : [2. 6.] \n",
      "check\n",
      "arm : 0 rew : 1 mean: [0.33333333 0.57142857] ucb : [2. 7.] \n",
      "check\n"
     ]
    }
   ],
   "source": [
    "ucb = UCB(num_arms,horizon)\n",
    "for i in range(10):\n",
    "    x  = ucb.give_pull()\n",
    "    if np.random.uniform(0,1)<prob[x]:\n",
    "        rew =1\n",
    "    else:\n",
    "        rew =0\n",
    "        \n",
    "    ucb.get_reward(x,rew)\n",
    "    #print(x)"
   ]
  },
  {
   "cell_type": "code",
   "execution_count": null,
   "id": "971f3d09",
   "metadata": {},
   "outputs": [],
   "source": []
  },
  {
   "cell_type": "code",
   "execution_count": null,
   "id": "150370ba",
   "metadata": {},
   "outputs": [],
   "source": []
  },
  {
   "cell_type": "code",
   "execution_count": 112,
   "id": "40b2c6dc",
   "metadata": {},
   "outputs": [],
   "source": [
    "class Thompson_Sampling(Algorithm):\n",
    "    def __init__(self, num_arms, horizon):\n",
    "        super().__init__(num_arms, horizon)\n",
    "        # You can add any other variables you need here\n",
    "        # START EDITING HERE\n",
    "        #num_arms no. of arms\n",
    "        #success no. of success of each arm\n",
    "        self.success = np.zeros(num_arms)\n",
    "        #no. of pull of each arm\n",
    "        self.counts = np.zeros(num_arms)\n",
    "        # END EDITING HERE\n",
    "    \n",
    "    def give_pull(self):\n",
    "        # START EDITING HERE\n",
    "        np.random.seed(0)\n",
    "        #sample : array to store sample value from beta distribution\n",
    "        sample = np.zeros(self.num_arms)\n",
    "        #arm : index sarting from zero\n",
    "        # for every arm a draw as sample from beta\n",
    "        for arm in range(self.num_arms):\n",
    "            sample[arm]=np.random.beta(self.success[arm]+1,self.counts[arm]-self.success[arm]+1)\n",
    "        return np.argmax(sample)\n",
    "        \n",
    "        # END EDITING HERE\n",
    "    \n",
    "    def get_reward(self, arm_index, reward):\n",
    "        # START EDITING HERE\n",
    "        self.counts[arm_index]+=1\n",
    "        if reward==1:\n",
    "            self.success[arm_index]+=1\n",
    "        print(\"arm : {} rew : {} success: {} count : {} \".format(arm_index,reward,self.success, self.counts))\n",
    "\n",
    "        # END EDITING HERE"
   ]
  },
  {
   "cell_type": "code",
   "execution_count": null,
   "id": "1716464c",
   "metadata": {},
   "outputs": [],
   "source": []
  },
  {
   "cell_type": "code",
   "execution_count": 111,
   "id": "df24b754",
   "metadata": {},
   "outputs": [
    {
     "name": "stdout",
     "output_type": "stream",
     "text": [
      "arm : 0 rew : 0 success: [0. 0.] ucb : [1. 0.] \n",
      "arm : 1 rew : 1 success: [0. 1.] ucb : [1. 1.] \n",
      "arm : 1 rew : 1 success: [0. 2.] ucb : [1. 2.] \n",
      "arm : 1 rew : 1 success: [0. 3.] ucb : [1. 3.] \n",
      "arm : 1 rew : 1 success: [0. 4.] ucb : [1. 4.] \n",
      "arm : 1 rew : 1 success: [0. 5.] ucb : [1. 5.] \n",
      "arm : 1 rew : 1 success: [0. 6.] ucb : [1. 6.] \n",
      "arm : 1 rew : 1 success: [0. 7.] ucb : [1. 7.] \n",
      "arm : 1 rew : 1 success: [0. 8.] ucb : [1. 8.] \n",
      "arm : 1 rew : 1 success: [0. 9.] ucb : [1. 9.] \n"
     ]
    }
   ],
   "source": [
    "ucb = Thompson_Sampling(num_arms,horizon)\n",
    "for i in range(10):\n",
    "    x  = ucb.give_pull()\n",
    "    if np.random.uniform(0,1)<prob[x]:\n",
    "        rew =1\n",
    "    else:\n",
    "        rew =0\n",
    "        \n",
    "    ucb.get_reward(x,rew)"
   ]
  },
  {
   "cell_type": "code",
   "execution_count": 101,
   "id": "7c0e3fc0",
   "metadata": {},
   "outputs": [
    {
     "name": "stdout",
     "output_type": "stream",
     "text": [
      "0.7917250380826646\n",
      "7\n"
     ]
    }
   ],
   "source": [
    "print(np.random.random())\n",
    "print(np.random.randint(10))"
   ]
  },
  {
   "cell_type": "code",
   "execution_count": null,
   "id": "2a071418",
   "metadata": {},
   "outputs": [],
   "source": [
    "\n",
    "# Example implementation of Epsilon Greedy algorithm\n",
    "class Eps_Greedy(Algorithm):\n",
    "    def __init__(self, num_arms, horizon):\n",
    "        super().__init__(num_arms, horizon)\n",
    "        # Extra member variables to keep track of the state\n",
    "        self.eps = 0.1\n",
    "        self.counts = np.zeros(num_arms)\n",
    "        self.values = np.zeros(num_arms)\n",
    "    \n",
    "    def give_pull(self):\n",
    "        if np.random.random() < self.eps:\n",
    "            return np.random.randint(self.num_arms)\n",
    "        else:\n",
    "            return np.argmax(self.values)\n",
    "    \n",
    "    def get_reward(self, arm_index, reward):\n",
    "        self.counts[arm_index] += 1\n",
    "        n = self.counts[arm_index]\n",
    "        value = self.values[arm_index]\n",
    "        new_value = ((n - 1) / n) * value + (1 / n) * reward\n",
    "        self.values[arm_index] = new_value\n",
    "\n",
    "\n",
    "# START EDITING HERE\n",
    "# You can use this space to define any helper functions that you need\n",
    "# END EDITING HERE\n",
    "\n",
    "class UCB(Algorithm):\n",
    "    def __init__(self, num_arms, horizon):\n",
    "        super().__init__(num_arms, horizon)\n",
    "        # You can add any other variables you need here\n",
    "        # START EDITING HERE\n",
    "\n",
    "        #num_arms no. of arms\n",
    "        # ucb : ucb values of each arm\n",
    "        self.ucb = np.zeros(num_arms)\n",
    "        #counts : no. of pull of each arm\n",
    "        self.counts = np.zeros(num_arms)\n",
    "        # mean : empirical mean\n",
    "        self.mean = np.zeros(num_arms)\n",
    "        self.h = 0\n",
    "        # END EDITING HERE\n",
    "        # END EDITING HERE\n",
    "    \n",
    "    def give_pull(self):\n",
    "        # START EDITING HERE\n",
    "        #print(self.h)\n",
    "        if (self.h < self.num_arms):\n",
    "            return self.h\n",
    "        return np.argmax(self.ucb)\n",
    "        # END EDITING HERE\n",
    "    \n",
    "    def get_reward(self, arm_index, reward):\n",
    "        # START EDITING HERE\n",
    "\n",
    "        # empirical means of arm_index    \n",
    "        p_ = self.mean[arm_index]\n",
    "        u = self.counts[arm_index]\n",
    "        self.mean[arm_index]= (p_ * u + reward ) / (u+1) \n",
    "\n",
    "        #print(self.mean)\n",
    "\n",
    "        self.counts[arm_index]+=1\n",
    "        self.h+=1\n",
    "\n",
    "        if (self.h >= self.num_arms):\n",
    "            ln = math.log(self.h)\n",
    "            for arm in range(self.num_arms):\n",
    "                add_to_mean = math.sqrt((2*ln)/self.counts[arm])\n",
    "                self.ucb[arm]= self.mean[arm_index] + add_to_mean\n",
    "        # END EDITING HERE\n",
    "\n",
    "class KL_UCB(Algorithm):\n",
    "    def __init__(self, num_arms, horizon):\n",
    "        super().__init__(num_arms, horizon)\n",
    "        # You can add any other variables you need here\n",
    "        # START EDITING HERE\n",
    "        #num_arms no. of arms\n",
    "\n",
    "        self.ucb = np.zeros(num_arms)\n",
    "        #no. of pull of each arm\n",
    "        self.counts = np.zeros(num_arms)\n",
    "        # END EDITING HERE\n",
    "    \n",
    "    def give_pull(self):\n",
    "        # START EDITING HERE\n",
    "        return 0\n",
    "        # END EDITING HERE\n",
    "    \n",
    "    def get_reward(self, arm_index, reward):\n",
    "        # START EDITING HERE\n",
    "        pass\n",
    "        # END EDITING HERE\n",
    "\n",
    "\n",
    "class Thompson_Sampling(Algorithm):\n",
    "    def __init__(self, num_arms, horizon):\n",
    "        super().__init__(num_arms, horizon)\n",
    "        # You can add any other variables you need here\n",
    "        # START EDITING HERE\n",
    "        #num_arms no. of arms\n",
    "        #success no. of success of each arm\n",
    "        self.success = np.zeros(num_arms)\n",
    "        #no. of pull of each arm\n",
    "        self.counts = np.zeros(num_arms)\n",
    "        # END EDITING HERE\n",
    "    \n",
    "    def give_pull(self):\n",
    "        # START EDITING HERE\n",
    "        np.random.seed(0)\n",
    "        #sample : array to store sample value from beta distribution\n",
    "        sample = np.zeros(self.num_arms)\n",
    "        #arm : index sarting from zero\n",
    "        # for every arm a draw as sample from beta\n",
    "        for arm in range(self.num_arms):\n",
    "            sample[arm]=np.random.beta(self.success[arm]+1,self.counts[arm]-self.success[arm]+1)\n",
    "        return np.argmax(sample)\n",
    "        # END EDITING HERE\n",
    "    \n",
    "    def get_reward(self, arm_index, reward):\n",
    "        # START EDITING HERE\n",
    "        self.counts[arm_index]+=1\n",
    "        if reward==1:\n",
    "            self.success[arm_index]+=1\n",
    "\n",
    "        # END EDITING HERE\n"
   ]
  },
  {
   "cell_type": "code",
   "execution_count": null,
   "id": "73c9897c",
   "metadata": {},
   "outputs": [],
   "source": []
  },
  {
   "cell_type": "code",
   "execution_count": null,
   "id": "b883b345",
   "metadata": {},
   "outputs": [],
   "source": []
  },
  {
   "cell_type": "code",
   "execution_count": null,
   "id": "42d80cb8",
   "metadata": {},
   "outputs": [],
   "source": []
  },
  {
   "cell_type": "code",
   "execution_count": null,
   "id": "3b0bae90",
   "metadata": {},
   "outputs": [],
   "source": []
  },
  {
   "cell_type": "code",
   "execution_count": 41,
   "id": "bea96b83",
   "metadata": {},
   "outputs": [
    {
     "name": "stdout",
     "output_type": "stream",
     "text": [
      "0.044472694396972656\n"
     ]
    }
   ],
   "source": [
    "import time\n",
    "tic = time.time()\n",
    "np.random.beta(np.ones(100000),np.ones(100000))\n",
    "\n",
    "print(time.time()-tic)\n"
   ]
  },
  {
   "cell_type": "code",
   "execution_count": 42,
   "id": "28af77b0",
   "metadata": {},
   "outputs": [
    {
     "name": "stdout",
     "output_type": "stream",
     "text": [
      "0.12258410453796387\n"
     ]
    }
   ],
   "source": [
    "tic = time.time()\n",
    "for i in range(100000):\n",
    "    np.random.beta(1,1)\n",
    "    \n",
    "print(time.time()-tic)"
   ]
  },
  {
   "cell_type": "code",
   "execution_count": null,
   "id": "48012e81",
   "metadata": {},
   "outputs": [],
   "source": []
  }
 ],
 "metadata": {
  "kernelspec": {
   "display_name": "Python 3 (ipykernel)",
   "language": "python",
   "name": "python3"
  },
  "language_info": {
   "codemirror_mode": {
    "name": "ipython",
    "version": 3
   },
   "file_extension": ".py",
   "mimetype": "text/x-python",
   "name": "python",
   "nbconvert_exporter": "python",
   "pygments_lexer": "ipython3",
   "version": "3.9.12"
  },
  "vscode": {
   "interpreter": {
    "hash": "31f2aee4e71d21fbe5cf8b01ff0e069b9275f58929596ceb00d14d90e3e16cd6"
   }
  }
 },
 "nbformat": 4,
 "nbformat_minor": 5
}
